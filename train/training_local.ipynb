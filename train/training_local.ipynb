{
 "cells": [
  {
   "cell_type": "code",
   "execution_count": 1,
   "metadata": {},
   "outputs": [],
   "source": [
    "import trainer as tb\n",
    "import misc\n",
    "import wandb"
   ]
  },
  {
   "cell_type": "code",
   "execution_count": null,
   "metadata": {},
   "outputs": [],
   "source": []
  },
  {
   "cell_type": "code",
   "execution_count": 2,
   "metadata": {},
   "outputs": [],
   "source": [
    "# log = []\n",
    "# data_path = \"../data/dataset_mini/\"\n",
    "# base = tb.train_eval_model(\"baseline\", data_path,\n",
    "#                            2, 2, 0.01, 0.9, 4,\n",
    "#                            False,\n",
    "#                            log,\n",
    "#                            None, \"\",\n",
    "#                            safe_model=True, safe_model_file=\"results/dummy/dummy.pth\")\n",
    "# misc.save_to_json_robust(base, \"results/dummy/dummy_results.json\")"
   ]
  },
  {
   "cell_type": "code",
   "execution_count": 3,
   "metadata": {},
   "outputs": [
    {
     "data": {
      "application/vnd.jupyter.widget-view+json": {
       "model_id": "db51903570204312950dd7a27662a35d",
       "version_major": 2,
       "version_minor": 0
      },
      "text/plain": [
       "Epochs:   0%|          | 0/2 [00:00<?, ?it/s]"
      ]
     },
     "metadata": {},
     "output_type": "display_data"
    },
    {
     "data": {
      "application/vnd.jupyter.widget-view+json": {
       "model_id": "705660c67d83456a9efa5e81e75de084",
       "version_major": 2,
       "version_minor": 0
      },
      "text/plain": [
       "Training:   0%|          | 0/8 [00:00<?, ?it/s]"
      ]
     },
     "metadata": {},
     "output_type": "display_data"
    },
    {
     "data": {
      "application/vnd.jupyter.widget-view+json": {
       "model_id": "fb5c28129ee649bda1af8e51b83666e5",
       "version_major": 2,
       "version_minor": 0
      },
      "text/plain": [
       "Validation:   0%|          | 0/8 [00:00<?, ?it/s]"
      ]
     },
     "metadata": {},
     "output_type": "display_data"
    },
    {
     "name": "stdout",
     "output_type": "stream",
     "text": [
      "Best model's state dict saved at results/dummy/dummy.pth\n"
     ]
    }
   ],
   "source": [
    "log = []\n",
    "modelname = \"baseline\"\n",
    "data_path = \"../data/dataset_mini/\"\n",
    "result_model_file = \"results/dummy/dummy.pth\"\n",
    "result_logs_file = \"results/dummy/dummy_results.json\"\n",
    "res = tb.train_eval_model(model_name=modelname,\n",
    "                          data_dir=data_path,\n",
    "                          batch_size=2,\n",
    "                          epochs=2,\n",
    "                          lr=0.01,\n",
    "                          momentum=0.9,\n",
    "                          n_data_workers=4,\n",
    "                          pin_memory=False,\n",
    "                          cuda_force=False,\n",
    "                          log=log,\n",
    "                          wandb_id=None,\n",
    "                          wandb_project=\"\",\n",
    "                          safe_model=True,\n",
    "                          safe_model_file=result_model_file)\n",
    "misc.save_to_json_robust(res, result_logs_file)"
   ]
  },
  {
   "cell_type": "code",
   "execution_count": 2,
   "metadata": {},
   "outputs": [
    {
     "name": "stderr",
     "output_type": "stream",
     "text": [
      "Failed to detect the name of this notebook, you can set it manually with the WANDB_NOTEBOOK_NAME environment variable to enable code saving.\n",
      "\u001b[34m\u001b[1mwandb\u001b[0m: Currently logged in as: \u001b[33mchr_te\u001b[0m. Use \u001b[1m`wandb login --relogin`\u001b[0m to force relogin\n"
     ]
    },
    {
     "data": {
      "text/plain": [
       "True"
      ]
     },
     "execution_count": 2,
     "metadata": {},
     "output_type": "execute_result"
    }
   ],
   "source": [
    "wandb.login()"
   ]
  },
  {
   "cell_type": "code",
   "execution_count": 3,
   "metadata": {},
   "outputs": [],
   "source": [
    "data_path = \"../data/dataset_mini/\""
   ]
  },
  {
   "cell_type": "code",
   "execution_count": 4,
   "metadata": {},
   "outputs": [
    {
     "data": {
      "text/html": [
       "Tracking run with wandb version 0.16.6"
      ],
      "text/plain": [
       "<IPython.core.display.HTML object>"
      ]
     },
     "metadata": {},
     "output_type": "display_data"
    },
    {
     "data": {
      "text/html": [
       "Run data is saved locally in <code>c:\\proj\\lfi_24\\train\\wandb\\run-20240406_035746-zae2se4k</code>"
      ],
      "text/plain": [
       "<IPython.core.display.HTML object>"
      ]
     },
     "metadata": {},
     "output_type": "display_data"
    },
    {
     "data": {
      "text/html": [
       "Syncing run <strong><a href='https://wandb.ai/chr_te/my-awesome-project/runs/zae2se4k' target=\"_blank\">test_on_mini</a></strong> to <a href='https://wandb.ai/chr_te/my-awesome-project' target=\"_blank\">Weights & Biases</a> (<a href='https://wandb.me/run' target=\"_blank\">docs</a>)<br/>"
      ],
      "text/plain": [
       "<IPython.core.display.HTML object>"
      ]
     },
     "metadata": {},
     "output_type": "display_data"
    },
    {
     "data": {
      "text/html": [
       " View project at <a href='https://wandb.ai/chr_te/my-awesome-project' target=\"_blank\">https://wandb.ai/chr_te/my-awesome-project</a>"
      ],
      "text/plain": [
       "<IPython.core.display.HTML object>"
      ]
     },
     "metadata": {},
     "output_type": "display_data"
    },
    {
     "data": {
      "text/html": [
       " View run at <a href='https://wandb.ai/chr_te/my-awesome-project/runs/zae2se4k' target=\"_blank\">https://wandb.ai/chr_te/my-awesome-project/runs/zae2se4k</a>"
      ],
      "text/plain": [
       "<IPython.core.display.HTML object>"
      ]
     },
     "metadata": {},
     "output_type": "display_data"
    }
   ],
   "source": [
    "# start a new wandb run to track this script\n",
    "run = wandb.init(\n",
    "    # set the wandb project where this run will be logged\n",
    "    project=\"my-awesome-project\",\n",
    "    name=\"test_on_mini\",\n",
    "\n",
    "    # track hyperparameters and run metadata\n",
    "    config={\n",
    "    \"learning_rate\": 0.01,\n",
    "    \"architecture\": None,\n",
    "    \"dataset\": \"mini\",\n",
    "    \"epochs\": 4,\n",
    "    }\n",
    ")"
   ]
  },
  {
   "cell_type": "code",
   "execution_count": 6,
   "metadata": {},
   "outputs": [
    {
     "data": {
      "text/html": [
       "Finishing last run (ID:zae2se4k) before initializing another..."
      ],
      "text/plain": [
       "<IPython.core.display.HTML object>"
      ]
     },
     "metadata": {},
     "output_type": "display_data"
    },
    {
     "data": {
      "application/vnd.jupyter.widget-view+json": {
       "model_id": "3719c6ffcf1841fabf7a7157dac2a10f",
       "version_major": 2,
       "version_minor": 0
      },
      "text/plain": [
       "VBox(children=(Label(value='0.007 MB of 0.007 MB uploaded\\r'), FloatProgress(value=1.0, max=1.0)))"
      ]
     },
     "metadata": {},
     "output_type": "display_data"
    },
    {
     "data": {
      "text/html": [
       " View run <strong style=\"color:#cdcd00\">test_on_mini</strong> at: <a href='https://wandb.ai/chr_te/my-awesome-project/runs/zae2se4k' target=\"_blank\">https://wandb.ai/chr_te/my-awesome-project/runs/zae2se4k</a><br/> View project at: <a href='https://wandb.ai/chr_te/my-awesome-project' target=\"_blank\">https://wandb.ai/chr_te/my-awesome-project</a><br/>Synced 4 W&B file(s), 0 media file(s), 0 artifact file(s) and 0 other file(s)"
      ],
      "text/plain": [
       "<IPython.core.display.HTML object>"
      ]
     },
     "metadata": {},
     "output_type": "display_data"
    },
    {
     "data": {
      "text/html": [
       "Find logs at: <code>.\\wandb\\run-20240406_035746-zae2se4k\\logs</code>"
      ],
      "text/plain": [
       "<IPython.core.display.HTML object>"
      ]
     },
     "metadata": {},
     "output_type": "display_data"
    },
    {
     "data": {
      "text/html": [
       "Successfully finished last run (ID:zae2se4k). Initializing new run:<br/>"
      ],
      "text/plain": [
       "<IPython.core.display.HTML object>"
      ]
     },
     "metadata": {},
     "output_type": "display_data"
    },
    {
     "data": {
      "application/vnd.jupyter.widget-view+json": {
       "model_id": "f3acd2710f434df0b30058bd2626c8f2",
       "version_major": 2,
       "version_minor": 0
      },
      "text/plain": [
       "VBox(children=(Label(value='Waiting for wandb.init()...\\r'), FloatProgress(value=0.011288888888884685, max=1.0…"
      ]
     },
     "metadata": {},
     "output_type": "display_data"
    },
    {
     "data": {
      "text/html": [
       "Tracking run with wandb version 0.16.6"
      ],
      "text/plain": [
       "<IPython.core.display.HTML object>"
      ]
     },
     "metadata": {},
     "output_type": "display_data"
    },
    {
     "data": {
      "text/html": [
       "Run data is saved locally in <code>c:\\proj\\lfi_24\\train\\wandb\\run-20240406_035809-zae2se4k</code>"
      ],
      "text/plain": [
       "<IPython.core.display.HTML object>"
      ]
     },
     "metadata": {},
     "output_type": "display_data"
    },
    {
     "data": {
      "text/html": [
       "Resuming run <strong><a href='https://wandb.ai/chr_te/my-awesome-project/runs/zae2se4k' target=\"_blank\">test_on_mini</a></strong> to <a href='https://wandb.ai/chr_te/my-awesome-project' target=\"_blank\">Weights & Biases</a> (<a href='https://wandb.me/run' target=\"_blank\">docs</a>)<br/>"
      ],
      "text/plain": [
       "<IPython.core.display.HTML object>"
      ]
     },
     "metadata": {},
     "output_type": "display_data"
    },
    {
     "data": {
      "text/html": [
       " View project at <a href='https://wandb.ai/chr_te/my-awesome-project' target=\"_blank\">https://wandb.ai/chr_te/my-awesome-project</a>"
      ],
      "text/plain": [
       "<IPython.core.display.HTML object>"
      ]
     },
     "metadata": {},
     "output_type": "display_data"
    },
    {
     "data": {
      "text/html": [
       " View run at <a href='https://wandb.ai/chr_te/my-awesome-project/runs/zae2se4k' target=\"_blank\">https://wandb.ai/chr_te/my-awesome-project/runs/zae2se4k</a>"
      ],
      "text/plain": [
       "<IPython.core.display.HTML object>"
      ]
     },
     "metadata": {},
     "output_type": "display_data"
    },
    {
     "name": "stdout",
     "output_type": "stream",
     "text": [
      "Training started...\n",
      "Epoch 1/4, Loss: 0.7539403438568115, Precision: 0.46153846153846156\n",
      "Epoch 2/4, Loss: 0.7244962751865387, Precision: 0.46153846153846156\n",
      "Epoch 3/4, Loss: 0.40534810721874237, Precision: 0.5454545454545454\n",
      "Epoch 4/4, Loss: 0.13860331755131483, Precision: 0.42857142857142855\n",
      "Best model's state dict saved at baseline.pth\n"
     ]
    },
    {
     "data": {
      "application/vnd.jupyter.widget-view+json": {
       "model_id": "edb9744463504133bd68cb12a37b1c95",
       "version_major": 2,
       "version_minor": 0
      },
      "text/plain": [
       "VBox(children=(Label(value='0.000 MB of 0.000 MB uploaded\\r'), FloatProgress(value=1.0, max=1.0)))"
      ]
     },
     "metadata": {},
     "output_type": "display_data"
    },
    {
     "data": {
      "text/html": [
       "<style>\n",
       "    table.wandb td:nth-child(1) { padding: 0 10px; text-align: left ; width: auto;} td:nth-child(2) {text-align: left ; width: 100%}\n",
       "    .wandb-row { display: flex; flex-direction: row; flex-wrap: wrap; justify-content: flex-start; width: 100% }\n",
       "    .wandb-col { display: flex; flex-direction: column; flex-basis: 100%; flex: 1; padding: 10px; }\n",
       "    </style>\n",
       "<div class=\"wandb-row\"><div class=\"wandb-col\"><h3>Run history:</h3><br/><table class=\"wandb\"><tr><td>accuracy</td><td>▁▁█▁</td></tr><tr><td>epoch</td><td>▁▃▆█</td></tr><tr><td>f1_score</td><td>▆▆█▁</td></tr><tr><td>loss</td><td>██▄▁</td></tr><tr><td>precision</td><td>▃▃█▁</td></tr><tr><td>recall</td><td>███▁</td></tr></table><br/></div><div class=\"wandb-col\"><h3>Run summary:</h3><br/><table class=\"wandb\"><tr><td>accuracy</td><td>0.4375</td></tr><tr><td>epoch</td><td>4</td></tr><tr><td>f1_score</td><td>0.4</td></tr><tr><td>loss</td><td>0.1386</td></tr><tr><td>precision</td><td>0.42857</td></tr><tr><td>recall</td><td>0.375</td></tr></table><br/></div></div>"
      ],
      "text/plain": [
       "<IPython.core.display.HTML object>"
      ]
     },
     "metadata": {},
     "output_type": "display_data"
    },
    {
     "data": {
      "text/html": [
       " View run <strong style=\"color:#cdcd00\">test_on_mini</strong> at: <a href='https://wandb.ai/chr_te/my-awesome-project/runs/zae2se4k' target=\"_blank\">https://wandb.ai/chr_te/my-awesome-project/runs/zae2se4k</a><br/> View project at: <a href='https://wandb.ai/chr_te/my-awesome-project' target=\"_blank\">https://wandb.ai/chr_te/my-awesome-project</a><br/>Synced 4 W&B file(s), 0 media file(s), 0 artifact file(s) and 0 other file(s)"
      ],
      "text/plain": [
       "<IPython.core.display.HTML object>"
      ]
     },
     "metadata": {},
     "output_type": "display_data"
    },
    {
     "data": {
      "text/html": [
       "Find logs at: <code>.\\wandb\\run-20240406_035809-zae2se4k\\logs</code>"
      ],
      "text/plain": [
       "<IPython.core.display.HTML object>"
      ]
     },
     "metadata": {},
     "output_type": "display_data"
    }
   ],
   "source": [
    "log = []\n",
    "base = tb.train_eval_model(\"baseline\", data_path,\n",
    "                           2, 4, 0.01, 0.9,\n",
    "                           False,\n",
    "                           log,\n",
    "                           run.id, \"my-awesome-project\",\n",
    "                           safe_model=True, safe_model_file=\"baseline.pth\")"
   ]
  },
  {
   "cell_type": "code",
   "execution_count": null,
   "metadata": {},
   "outputs": [],
   "source": []
  }
 ],
 "metadata": {
  "kernelspec": {
   "display_name": "Python 3",
   "language": "python",
   "name": "python3"
  },
  "language_info": {
   "codemirror_mode": {
    "name": "ipython",
    "version": 3
   },
   "file_extension": ".py",
   "mimetype": "text/x-python",
   "name": "python",
   "nbconvert_exporter": "python",
   "pygments_lexer": "ipython3",
   "version": "3.11.3"
  }
 },
 "nbformat": 4,
 "nbformat_minor": 2
}
