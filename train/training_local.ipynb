{
 "cells": [
  {
   "cell_type": "code",
   "execution_count": 1,
   "metadata": {},
   "outputs": [
    {
     "data": {
      "application/vnd.jupyter.widget-view+json": {
       "model_id": "5fd251c47e224ac294e1a30fc702d7a9",
       "version_major": 2,
       "version_minor": 0
      },
      "text/plain": [
       "Epochs:   0%|          | 0/2 [00:00<?, ?it/s]"
      ]
     },
     "metadata": {},
     "output_type": "display_data"
    },
    {
     "data": {
      "application/vnd.jupyter.widget-view+json": {
       "model_id": "85b213ab13bf46d3828521ba5e120f29",
       "version_major": 2,
       "version_minor": 0
      },
      "text/plain": [
       "Training:   0%|          | 0/8 [00:00<?, ?it/s]"
      ]
     },
     "metadata": {},
     "output_type": "display_data"
    },
    {
     "data": {
      "application/vnd.jupyter.widget-view+json": {
       "model_id": "8b43b9efb0da47288074f7e83be748b5",
       "version_major": 2,
       "version_minor": 0
      },
      "text/plain": [
       "Validation:   0%|          | 0/8 [00:00<?, ?it/s]"
      ]
     },
     "metadata": {},
     "output_type": "display_data"
    },
    {
     "name": "stdout",
     "output_type": "stream",
     "text": [
      "Best model's state dict saved at results/dummy/dummy.pth\n"
     ]
    }
   ],
   "source": [
    "# No wandb\n",
    "import trainer as tb\n",
    "import misc\n",
    "\n",
    "log = []\n",
    "modelname = \"baseline\"\n",
    "data_path = \"../data/dataset_mini/\"\n",
    "result_model_file = \"results/dummy/dummy.pth\"\n",
    "result_logs_file = \"results/dummy/dummy_results.json\"\n",
    "res = tb.train_eval_model(model_name=modelname,\n",
    "                          data_dir=data_path,\n",
    "                          batch_size=2,\n",
    "                          epochs=2,\n",
    "                          lr=0.01,\n",
    "                          momentum=0.9,\n",
    "                          n_data_workers=4,\n",
    "                          pin_memory=False,\n",
    "                          cuda_force=False,\n",
    "                          log=log,\n",
    "                          wandb_id=None,\n",
    "                          wandb_project=\"\",\n",
    "                          safe_model=True,\n",
    "                          safe_model_file=result_model_file)\n",
    "misc.save_to_json_robust(res, result_logs_file)"
   ]
  },
  {
   "cell_type": "code",
   "execution_count": null,
   "metadata": {},
   "outputs": [],
   "source": []
  },
  {
   "cell_type": "code",
   "execution_count": 1,
   "metadata": {},
   "outputs": [
    {
     "name": "stderr",
     "output_type": "stream",
     "text": [
      "Failed to detect the name of this notebook, you can set it manually with the WANDB_NOTEBOOK_NAME environment variable to enable code saving.\n",
      "\u001b[34m\u001b[1mwandb\u001b[0m: Currently logged in as: \u001b[33mchr_te\u001b[0m. Use \u001b[1m`wandb login --relogin`\u001b[0m to force relogin\n"
     ]
    },
    {
     "data": {
      "text/html": [
       "Tracking run with wandb version 0.16.6"
      ],
      "text/plain": [
       "<IPython.core.display.HTML object>"
      ]
     },
     "metadata": {},
     "output_type": "display_data"
    },
    {
     "data": {
      "text/html": [
       "Run data is saved locally in <code>c:\\proj\\lfi_24\\train\\wandb\\run-20240406_164121-ev3e907p</code>"
      ],
      "text/plain": [
       "<IPython.core.display.HTML object>"
      ]
     },
     "metadata": {},
     "output_type": "display_data"
    },
    {
     "data": {
      "text/html": [
       "Syncing run <strong><a href='https://wandb.ai/chr_te/my-awesome-project/runs/ev3e907p' target=\"_blank\">test_on_mini_from_local</a></strong> to <a href='https://wandb.ai/chr_te/my-awesome-project' target=\"_blank\">Weights & Biases</a> (<a href='https://wandb.me/run' target=\"_blank\">docs</a>)<br/>"
      ],
      "text/plain": [
       "<IPython.core.display.HTML object>"
      ]
     },
     "metadata": {},
     "output_type": "display_data"
    },
    {
     "data": {
      "text/html": [
       " View project at <a href='https://wandb.ai/chr_te/my-awesome-project' target=\"_blank\">https://wandb.ai/chr_te/my-awesome-project</a>"
      ],
      "text/plain": [
       "<IPython.core.display.HTML object>"
      ]
     },
     "metadata": {},
     "output_type": "display_data"
    },
    {
     "data": {
      "text/html": [
       " View run at <a href='https://wandb.ai/chr_te/my-awesome-project/runs/ev3e907p' target=\"_blank\">https://wandb.ai/chr_te/my-awesome-project/runs/ev3e907p</a>"
      ],
      "text/plain": [
       "<IPython.core.display.HTML object>"
      ]
     },
     "metadata": {},
     "output_type": "display_data"
    },
    {
     "data": {
      "text/html": [
       "Finishing last run (ID:ev3e907p) before initializing another..."
      ],
      "text/plain": [
       "<IPython.core.display.HTML object>"
      ]
     },
     "metadata": {},
     "output_type": "display_data"
    },
    {
     "data": {
      "application/vnd.jupyter.widget-view+json": {
       "model_id": "2992e8c9ee8748038f606db0fbb9196c",
       "version_major": 2,
       "version_minor": 0
      },
      "text/plain": [
       "VBox(children=(Label(value='0.002 MB of 0.006 MB uploaded\\r'), FloatProgress(value=0.2498895597113827, max=1.0…"
      ]
     },
     "metadata": {},
     "output_type": "display_data"
    },
    {
     "data": {
      "text/html": [
       " View run <strong style=\"color:#cdcd00\">test_on_mini_from_local</strong> at: <a href='https://wandb.ai/chr_te/my-awesome-project/runs/ev3e907p' target=\"_blank\">https://wandb.ai/chr_te/my-awesome-project/runs/ev3e907p</a><br/> View project at: <a href='https://wandb.ai/chr_te/my-awesome-project' target=\"_blank\">https://wandb.ai/chr_te/my-awesome-project</a><br/>Synced 4 W&B file(s), 0 media file(s), 0 artifact file(s) and 0 other file(s)"
      ],
      "text/plain": [
       "<IPython.core.display.HTML object>"
      ]
     },
     "metadata": {},
     "output_type": "display_data"
    },
    {
     "data": {
      "text/html": [
       "Find logs at: <code>.\\wandb\\run-20240406_164121-ev3e907p\\logs</code>"
      ],
      "text/plain": [
       "<IPython.core.display.HTML object>"
      ]
     },
     "metadata": {},
     "output_type": "display_data"
    },
    {
     "data": {
      "text/html": [
       "Successfully finished last run (ID:ev3e907p). Initializing new run:<br/>"
      ],
      "text/plain": [
       "<IPython.core.display.HTML object>"
      ]
     },
     "metadata": {},
     "output_type": "display_data"
    },
    {
     "data": {
      "application/vnd.jupyter.widget-view+json": {
       "model_id": "09a9f8bb42bc48679567c5bb0c3b585a",
       "version_major": 2,
       "version_minor": 0
      },
      "text/plain": [
       "VBox(children=(Label(value='Waiting for wandb.init()...\\r'), FloatProgress(value=0.011111111111111112, max=1.0…"
      ]
     },
     "metadata": {},
     "output_type": "display_data"
    },
    {
     "data": {
      "text/html": [
       "Tracking run with wandb version 0.16.6"
      ],
      "text/plain": [
       "<IPython.core.display.HTML object>"
      ]
     },
     "metadata": {},
     "output_type": "display_data"
    },
    {
     "data": {
      "text/html": [
       "Run data is saved locally in <code>c:\\proj\\lfi_24\\train\\wandb\\run-20240406_164124-ev3e907p</code>"
      ],
      "text/plain": [
       "<IPython.core.display.HTML object>"
      ]
     },
     "metadata": {},
     "output_type": "display_data"
    },
    {
     "data": {
      "text/html": [
       "Resuming run <strong><a href='https://wandb.ai/chr_te/my-awesome-project/runs/ev3e907p' target=\"_blank\">test_on_mini_from_local</a></strong> to <a href='https://wandb.ai/chr_te/my-awesome-project' target=\"_blank\">Weights & Biases</a> (<a href='https://wandb.me/run' target=\"_blank\">docs</a>)<br/>"
      ],
      "text/plain": [
       "<IPython.core.display.HTML object>"
      ]
     },
     "metadata": {},
     "output_type": "display_data"
    },
    {
     "data": {
      "text/html": [
       " View project at <a href='https://wandb.ai/chr_te/my-awesome-project' target=\"_blank\">https://wandb.ai/chr_te/my-awesome-project</a>"
      ],
      "text/plain": [
       "<IPython.core.display.HTML object>"
      ]
     },
     "metadata": {},
     "output_type": "display_data"
    },
    {
     "data": {
      "text/html": [
       " View run at <a href='https://wandb.ai/chr_te/my-awesome-project/runs/ev3e907p' target=\"_blank\">https://wandb.ai/chr_te/my-awesome-project/runs/ev3e907p</a>"
      ],
      "text/plain": [
       "<IPython.core.display.HTML object>"
      ]
     },
     "metadata": {},
     "output_type": "display_data"
    },
    {
     "data": {
      "application/vnd.jupyter.widget-view+json": {
       "model_id": "32da2e4d4dfc4d1caa08c77231625c43",
       "version_major": 2,
       "version_minor": 0
      },
      "text/plain": [
       "Epochs:   0%|          | 0/2 [00:00<?, ?it/s]"
      ]
     },
     "metadata": {},
     "output_type": "display_data"
    },
    {
     "data": {
      "application/vnd.jupyter.widget-view+json": {
       "model_id": "8c27b792c5e543158cd03328b2ab3f7f",
       "version_major": 2,
       "version_minor": 0
      },
      "text/plain": [
       "Training:   0%|          | 0/8 [00:00<?, ?it/s]"
      ]
     },
     "metadata": {},
     "output_type": "display_data"
    },
    {
     "data": {
      "application/vnd.jupyter.widget-view+json": {
       "model_id": "a2785926ac2b46b3ba08723d8001762e",
       "version_major": 2,
       "version_minor": 0
      },
      "text/plain": [
       "Validation:   0%|          | 0/8 [00:00<?, ?it/s]"
      ]
     },
     "metadata": {},
     "output_type": "display_data"
    },
    {
     "name": "stdout",
     "output_type": "stream",
     "text": [
      "Best model's state dict saved at results/dummy/dummy.pth\n"
     ]
    },
    {
     "data": {
      "application/vnd.jupyter.widget-view+json": {
       "model_id": "e9bd188de06146f983147fc99c701bfe",
       "version_major": 2,
       "version_minor": 0
      },
      "text/plain": [
       "VBox(children=(Label(value='0.000 MB of 0.000 MB uploaded\\r'), FloatProgress(value=1.0, max=1.0)))"
      ]
     },
     "metadata": {},
     "output_type": "display_data"
    },
    {
     "data": {
      "text/html": [
       "<style>\n",
       "    table.wandb td:nth-child(1) { padding: 0 10px; text-align: left ; width: auto;} td:nth-child(2) {text-align: left ; width: 100%}\n",
       "    .wandb-row { display: flex; flex-direction: row; flex-wrap: wrap; justify-content: flex-start; width: 100% }\n",
       "    .wandb-col { display: flex; flex-direction: column; flex-basis: 100%; flex: 1; padding: 10px; }\n",
       "    </style>\n",
       "<div class=\"wandb-row\"><div class=\"wandb-col\"><h3>Run history:</h3><br/><table class=\"wandb\"><tr><td>accuracy</td><td>█▁</td></tr><tr><td>duration_s</td><td>█▁</td></tr><tr><td>epoch</td><td>▁█</td></tr><tr><td>f1_score</td><td>█▁</td></tr><tr><td>precision</td><td>█▁</td></tr><tr><td>recall</td><td>█▁</td></tr><tr><td>train_loss</td><td>█▁</td></tr><tr><td>val_loss</td><td>█▁</td></tr></table><br/></div><div class=\"wandb-col\"><h3>Run summary:</h3><br/><table class=\"wandb\"><tr><td>accuracy</td><td>0.4375</td></tr><tr><td>duration_s</td><td>24.18939</td></tr><tr><td>epoch</td><td>2</td></tr><tr><td>f1_score</td><td>0.4</td></tr><tr><td>precision</td><td>0.42857</td></tr><tr><td>recall</td><td>0.375</td></tr><tr><td>train_loss</td><td>0.52042</td></tr><tr><td>val_loss</td><td>0.69234</td></tr></table><br/></div></div>"
      ],
      "text/plain": [
       "<IPython.core.display.HTML object>"
      ]
     },
     "metadata": {},
     "output_type": "display_data"
    },
    {
     "data": {
      "text/html": [
       " View run <strong style=\"color:#cdcd00\">test_on_mini_from_local</strong> at: <a href='https://wandb.ai/chr_te/my-awesome-project/runs/ev3e907p' target=\"_blank\">https://wandb.ai/chr_te/my-awesome-project/runs/ev3e907p</a><br/> View project at: <a href='https://wandb.ai/chr_te/my-awesome-project' target=\"_blank\">https://wandb.ai/chr_te/my-awesome-project</a><br/>Synced 4 W&B file(s), 0 media file(s), 0 artifact file(s) and 0 other file(s)"
      ],
      "text/plain": [
       "<IPython.core.display.HTML object>"
      ]
     },
     "metadata": {},
     "output_type": "display_data"
    },
    {
     "data": {
      "text/html": [
       "Find logs at: <code>.\\wandb\\run-20240406_164124-ev3e907p\\logs</code>"
      ],
      "text/plain": [
       "<IPython.core.display.HTML object>"
      ]
     },
     "metadata": {},
     "output_type": "display_data"
    }
   ],
   "source": [
    "# With wandb\n",
    "import trainer as tb\n",
    "import misc\n",
    "import wandb\n",
    "wandb.login()\n",
    "\n",
    "# Start a new wandb run to track this script\n",
    "run = wandb.init(\n",
    "    # set the wandb project where this run will be logged\n",
    "    project=\"my-awesome-project\",\n",
    "    name=\"test_on_mini_from_local\",\n",
    ")\n",
    "\n",
    "log = []\n",
    "modelname = \"baseline\"\n",
    "data_path = \"../data/dataset_mini/\"\n",
    "result_model_file = \"results/dummy/dummy.pth\"\n",
    "result_logs_file = \"results/dummy/dummy_results.json\"\n",
    "res = tb.train_eval_model(model_name=modelname,\n",
    "                          data_dir=data_path,\n",
    "                          batch_size=2,\n",
    "                          epochs=2,\n",
    "                          lr=0.01,\n",
    "                          momentum=0.9,\n",
    "                          n_data_workers=4,\n",
    "                          pin_memory=False,\n",
    "                          cuda_force=False,\n",
    "                          log=log,\n",
    "                          wandb_id=run.id,\n",
    "                          wandb_project=\"my-awesome-project\",\n",
    "                          safe_model=True,\n",
    "                          safe_model_file=result_model_file)\n",
    "misc.save_to_json_robust(res, result_logs_file)"
   ]
  }
 ],
 "metadata": {
  "kernelspec": {
   "display_name": "Python 3",
   "language": "python",
   "name": "python3"
  },
  "language_info": {
   "codemirror_mode": {
    "name": "ipython",
    "version": 3
   },
   "file_extension": ".py",
   "mimetype": "text/x-python",
   "name": "python",
   "nbconvert_exporter": "python",
   "pygments_lexer": "ipython3",
   "version": "3.11.3"
  }
 },
 "nbformat": 4,
 "nbformat_minor": 2
}
