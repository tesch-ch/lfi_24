{
 "cells": [
  {
   "cell_type": "code",
   "execution_count": null,
   "metadata": {},
   "outputs": [],
   "source": [
    "# No wandb\n",
    "import trainer as tb\n",
    "import misc\n",
    "\n",
    "log = []\n",
    "modelname = \"baseline\"\n",
    "data_path = \"../data/dataset_mini/\"\n",
    "result_model_file = \"results/dummy/dummy.pth\"\n",
    "result_model_file_final = \"results/dummy/dummy_final.pth\"\n",
    "result_logs_file = \"results/dummy/dummy_results.json\"\n",
    "res = tb.train_eval_model(model_name=modelname,\n",
    "                          data_dir=data_path,\n",
    "                          batch_size=2,\n",
    "                          epochs=2,\n",
    "                          momentum=0.9,\n",
    "                          lr=0.01,\n",
    "                          weight_decay=2e-05,\n",
    "                          useCosineAnnealingLR=True,\n",
    "                          warmup_epochs=0,\n",
    "                          warmup_lr_decay=0.01,\n",
    "                          label_smoothing=0.1,\n",
    "                          class_weights=(0.5, 1),\n",
    "                          n_data_workers=4,\n",
    "                          pin_memory=True,\n",
    "                          cuda_force=False,\n",
    "                          log=log,\n",
    "                          wandb_id=None,\n",
    "                          wandb_project=\"\",\n",
    "                          safe_model=True,\n",
    "                          safe_model_file=result_model_file,\n",
    "                          safe_model_file_final=result_model_file_final)\n",
    "misc.save_to_json_robust(res, result_logs_file)"
   ]
  },
  {
   "cell_type": "code",
   "execution_count": null,
   "metadata": {},
   "outputs": [],
   "source": [
    "# No wandb\n",
    "import trainer as tb\n",
    "import misc\n",
    "\n",
    "log = []\n",
    "modelname = \"resnet50_2fc\"\n",
    "data_path = \"../data/dataset_mini/\"\n",
    "result_model_file = \"results/dummy/dummy.pth\"\n",
    "result_logs_file = \"results/dummy/dummy_results.json\"\n",
    "res = tb.train_eval_model(model_name=modelname,\n",
    "                          data_dir=data_path,\n",
    "                          batch_size=2,\n",
    "                          epochs=4,\n",
    "                          momentum=0.9,\n",
    "                          lr=0.01,\n",
    "                          weight_decay=2e-05,\n",
    "                          useCosineAnnealingLR=True,\n",
    "                          warmup_epochs=2,\n",
    "                          warmup_lr_decay=0.01,\n",
    "                          label_smoothing=0.1,\n",
    "                          n_data_workers=4,\n",
    "                          pin_memory=True,\n",
    "                          cuda_force=False,\n",
    "                          log=log,\n",
    "                          wandb_id=None,\n",
    "                          wandb_project=\"\",\n",
    "                          safe_model=True,\n",
    "                          safe_model_file=result_model_file)\n",
    "misc.save_to_json_robust(res, result_logs_file)"
   ]
  },
  {
   "cell_type": "code",
   "execution_count": null,
   "metadata": {},
   "outputs": [],
   "source": []
  },
  {
   "cell_type": "code",
   "execution_count": null,
   "metadata": {},
   "outputs": [],
   "source": [
    "# With wandb\n",
    "import trainer as tb\n",
    "import misc\n",
    "import wandb\n",
    "wandb.login()\n",
    "\n",
    "# Start a new wandb run to track this script\n",
    "run = wandb.init(\n",
    "    # set the wandb project where this run will be logged\n",
    "    project=\"my-awesome-project\",\n",
    "    name=\"test_on_mini_from_local\",\n",
    ")\n",
    "\n",
    "log = []\n",
    "modelname = \"baseline\"\n",
    "data_path = \"../data/dataset_mini/\"\n",
    "result_model_file = \"results/dummy/dummy.pth\"\n",
    "result_logs_file = \"results/dummy/dummy_results.json\"\n",
    "res = tb.train_eval_model(model_name=modelname,\n",
    "                          data_dir=data_path,\n",
    "                          batch_size=2,\n",
    "                          epochs=4,\n",
    "                          momentum=0.9,\n",
    "                          lr=0.01,\n",
    "                          weight_decay=2e-05,\n",
    "                          useCosineAnnealingLR=True,\n",
    "                          warmup_epochs=2,\n",
    "                          warmup_lr_decay=0.01,\n",
    "                          label_smoothing=0.1,\n",
    "                          n_data_workers=4,\n",
    "                          pin_memory=True,\n",
    "                          cuda_force=False,\n",
    "                          log=log,\n",
    "                          wandb_id=run.id,\n",
    "                          wandb_project=\"my-awesome-project\",\n",
    "                          safe_model=True,\n",
    "                          safe_model_file=result_model_file)\n",
    "misc.save_to_json_robust(res, result_logs_file)"
   ]
  },
  {
   "cell_type": "code",
   "execution_count": 1,
   "metadata": {},
   "outputs": [
    {
     "name": "stdout",
     "output_type": "stream",
     "text": [
      "CUDA is not available.\n"
     ]
    },
    {
     "data": {
      "application/vnd.jupyter.widget-view+json": {
       "model_id": "b8e17551aeb34a7980e82e96ed46acfe",
       "version_major": 2,
       "version_minor": 0
      },
      "text/plain": [
       "Evaluation:   0%|          | 0/8 [00:00<?, ?it/s]"
      ]
     },
     "metadata": {},
     "output_type": "display_data"
    },
    {
     "data": {
      "text/plain": [
       "{'labels': [0, 0, 0, 0, 0, 0, 0, 0, 1, 1, 1, 1, 1, 1, 1, 1],\n",
       " 'predictions': [0, 0, 1, 1, 0, 1, 0, 0, 1, 1, 0, 1, 1, 1, 0, 0],\n",
       " 'classes': ['non_smile', 'smile'],\n",
       " 'detailed_predictions': [{'file': '00a454da495e11e28a7322000a1fa414_6.jpg',\n",
       "   'true_label': 'non_smile',\n",
       "   'predicted_label': 'non_smile',\n",
       "   'probabilities': [0.6267724, 0.37322757]},\n",
       "  {'file': '02ee8060b02f11e38fe012b1c8928cc9_6.jpg',\n",
       "   'true_label': 'non_smile',\n",
       "   'predicted_label': 'non_smile',\n",
       "   'probabilities': [0.5560851, 0.44391486]},\n",
       "  {'file': '044c14a2bff911e396ce0002c9de8044_6.jpg',\n",
       "   'true_label': 'non_smile',\n",
       "   'predicted_label': 'smile',\n",
       "   'probabilities': [0.38814086, 0.6118591]},\n",
       "  {'file': '0598ce50b1f711e3bd391271df4caaa4_6.jpg',\n",
       "   'true_label': 'non_smile',\n",
       "   'predicted_label': 'smile',\n",
       "   'probabilities': [0.38239607, 0.61760396]},\n",
       "  {'file': '061897ee69b811e2896422000a1fb003_6.jpg',\n",
       "   'true_label': 'non_smile',\n",
       "   'predicted_label': 'non_smile',\n",
       "   'probabilities': [0.6611462, 0.33885378]},\n",
       "  {'file': '06c71a9ead0011e3879b129cfeadffe8_6.jpg',\n",
       "   'true_label': 'non_smile',\n",
       "   'predicted_label': 'smile',\n",
       "   'probabilities': [0.4895359, 0.51046413]},\n",
       "  {'file': '09c515c4ad0611e3ae221212d5b5af4c_6.jpg',\n",
       "   'true_label': 'non_smile',\n",
       "   'predicted_label': 'non_smile',\n",
       "   'probabilities': [0.82597136, 0.17402862]},\n",
       "  {'file': '0c5abda8a6f711e3aedb125d9a40ea40_6.jpg',\n",
       "   'true_label': 'non_smile',\n",
       "   'predicted_label': 'non_smile',\n",
       "   'probabilities': [0.58113265, 0.41886732]},\n",
       "  {'file': '924322_292867884212397_1868413399_a.jpg',\n",
       "   'true_label': 'smile',\n",
       "   'predicted_label': 'smile',\n",
       "   'probabilities': [0.48463112, 0.5153689]},\n",
       "  {'file': '924323_276918425810715_1962566887_a.jpg',\n",
       "   'true_label': 'smile',\n",
       "   'predicted_label': 'smile',\n",
       "   'probabilities': [0.26048404, 0.739516]},\n",
       "  {'file': '924323_388055454667976_970255712_a.jpg',\n",
       "   'true_label': 'smile',\n",
       "   'predicted_label': 'non_smile',\n",
       "   'probabilities': [0.5210315, 0.4789685]},\n",
       "  {'file': '924331_1470192646544040_1135292996_a.jpg',\n",
       "   'true_label': 'smile',\n",
       "   'predicted_label': 'smile',\n",
       "   'probabilities': [0.4516282, 0.5483718]},\n",
       "  {'file': '924331_1481236995423537_1570414661_a.jpg',\n",
       "   'true_label': 'smile',\n",
       "   'predicted_label': 'smile',\n",
       "   'probabilities': [0.30319336, 0.69680667]},\n",
       "  {'file': '924332_243145532540347_701719145_a.jpg',\n",
       "   'true_label': 'smile',\n",
       "   'predicted_label': 'smile',\n",
       "   'probabilities': [0.29371113, 0.7062888]},\n",
       "  {'file': '924333_1436802749897207_5126133_a.jpg',\n",
       "   'true_label': 'smile',\n",
       "   'predicted_label': 'non_smile',\n",
       "   'probabilities': [0.62117785, 0.3788222]},\n",
       "  {'file': '924339_771274052905060_1678932468_a.jpg',\n",
       "   'true_label': 'smile',\n",
       "   'predicted_label': 'non_smile',\n",
       "   'probabilities': [0.51515424, 0.48484573]}]}"
      ]
     },
     "execution_count": 1,
     "metadata": {},
     "output_type": "execute_result"
    }
   ],
   "source": [
    "# Testing the evaluate model function\n",
    "import trainer\n",
    "\n",
    "model_file_path = \"results/colab/bl_enhanced_4_us_final.pth\"\n",
    "test_set_path = \"../data/dataset_mini/test\"\n",
    "\n",
    "r = trainer.evaluate_model(model_file_path=model_file_path,\n",
    "                           test_set_path=test_set_path,\n",
    "                           batch_size=2,\n",
    "                           num_workers=1,\n",
    "                           make_detailed_predictions=True)\n",
    "r\n"
   ]
  },
  {
   "cell_type": "code",
   "execution_count": 4,
   "metadata": {},
   "outputs": [
    {
     "name": "stdout",
     "output_type": "stream",
     "text": [
      "Accuracy: 0.6250\n",
      "Precision: 0.6250\n",
      "Recall: 0.6250\n",
      "F1 Score: 0.6250\n"
     ]
    },
    {
     "data": {
      "image/png": "[encoded data removed]",
      "text/plain": [
       "<Figure size 330x300 with 1 Axes>"
      ]
     },
     "metadata": {},
     "output_type": "display_data"
    }
   ],
   "source": [
    "from sklearn.metrics import (accuracy_score, precision_recall_fscore_support,\n",
    "                             confusion_matrix)\n",
    "import matplotlib.pyplot as plt\n",
    "import seaborn as sns\n",
    "\n",
    "all_labels = r['labels']\n",
    "all_preds = r['predictions']\n",
    "classes = r['classes']\n",
    "\n",
    "# Calculate overall metrics\n",
    "accuracy = accuracy_score(all_labels, all_preds)\n",
    "precision, recall, f1, _ = precision_recall_fscore_support(all_labels, all_preds, average='binary')\n",
    "conf_matrix = confusion_matrix(all_labels, all_preds)\n",
    "\n",
    "# Print overall metrics\n",
    "print(f\"Accuracy: {accuracy:.4f}\")\n",
    "print(f\"Precision: {precision:.4f}\")\n",
    "print(f\"Recall: {recall:.4f}\")\n",
    "print(f\"F1 Score: {f1:.4f}\")\n",
    "\n",
    "# Plot relative confusion matrix\n",
    "plt.figure(figsize=(3.3, 3))\n",
    "sns.heatmap(conf_matrix / conf_matrix.sum(axis=1)[:, None], annot=True, fmt=\".2%\",\n",
    "            cmap=\"Blues\", xticklabels=classes, yticklabels=classes, cbar=False)\n",
    "plt.title(\"Relative Confusion Matrix\")\n",
    "plt.ylabel(\"True\")\n",
    "plt.xlabel(\"Predicted\")\n",
    "plt.show()"
   ]
  }
 ],
 "metadata": {
  "kernelspec": {
   "display_name": "Python 3",
   "language": "python",
   "name": "python3"
  },
  "language_info": {
   "codemirror_mode": {
    "name": "ipython",
    "version": 3
   },
   "file_extension": ".py",
   "mimetype": "text/x-python",
   "name": "python",
   "nbconvert_exporter": "python",
   "pygments_lexer": "ipython3",
   "version": "3.11.3"
  }
 },
 "nbformat": 4,
 "nbformat_minor": 2
}
