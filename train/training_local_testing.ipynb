{
 "cells": [
  {
   "cell_type": "code",
   "execution_count": null,
   "metadata": {},
   "outputs": [],
   "source": [
    "# No wandb\n",
    "import trainer as tb\n",
    "import misc\n",
    "\n",
    "log = []\n",
    "modelname = \"baseline\"\n",
    "data_path = \"../data/dataset_mini/\"\n",
    "result_model_file = \"results/dummy/dummy.pth\"\n",
    "result_model_file_final = \"results/dummy/dummy_final.pth\"\n",
    "result_logs_file = \"results/dummy/dummy_results.json\"\n",
    "res = tb.train_eval_model(model_name=modelname,\n",
    "                          data_dir=data_path,\n",
    "                          batch_size=2,\n",
    "                          epochs=2,\n",
    "                          momentum=0.9,\n",
    "                          lr=0.01,\n",
    "                          weight_decay=2e-05,\n",
    "                          useCosineAnnealingLR=True,\n",
    "                          warmup_epochs=0,\n",
    "                          warmup_lr_decay=0.01,\n",
    "                          label_smoothing=0.1,\n",
    "                          class_weights=(0.5, 1),\n",
    "                          n_data_workers=4,\n",
    "                          pin_memory=True,\n",
    "                          cuda_force=False,\n",
    "                          log=log,\n",
    "                          wandb_id=None,\n",
    "                          wandb_project=\"\",\n",
    "                          safe_model=True,\n",
    "                          safe_model_file=result_model_file,\n",
    "                          safe_model_file_final=result_model_file_final)\n",
    "misc.save_to_json_robust(res, result_logs_file)"
   ]
  },
  {
   "cell_type": "code",
   "execution_count": null,
   "metadata": {},
   "outputs": [],
   "source": [
    "# No wandb\n",
    "import trainer as tb\n",
    "import misc\n",
    "\n",
    "log = []\n",
    "modelname = \"resnet50_2fc\"\n",
    "data_path = \"../data/dataset_mini/\"\n",
    "result_model_file = \"results/dummy/dummy.pth\"\n",
    "result_logs_file = \"results/dummy/dummy_results.json\"\n",
    "res = tb.train_eval_model(model_name=modelname,\n",
    "                          data_dir=data_path,\n",
    "                          batch_size=2,\n",
    "                          epochs=4,\n",
    "                          momentum=0.9,\n",
    "                          lr=0.01,\n",
    "                          weight_decay=2e-05,\n",
    "                          useCosineAnnealingLR=True,\n",
    "                          warmup_epochs=2,\n",
    "                          warmup_lr_decay=0.01,\n",
    "                          label_smoothing=0.1,\n",
    "                          n_data_workers=4,\n",
    "                          pin_memory=True,\n",
    "                          cuda_force=False,\n",
    "                          log=log,\n",
    "                          wandb_id=None,\n",
    "                          wandb_project=\"\",\n",
    "                          safe_model=True,\n",
    "                          safe_model_file=result_model_file)\n",
    "misc.save_to_json_robust(res, result_logs_file)"
   ]
  },
  {
   "cell_type": "code",
   "execution_count": null,
   "metadata": {},
   "outputs": [],
   "source": []
  },
  {
   "cell_type": "code",
   "execution_count": null,
   "metadata": {},
   "outputs": [],
   "source": [
    "# With wandb\n",
    "import trainer as tb\n",
    "import misc\n",
    "import wandb\n",
    "wandb.login()\n",
    "\n",
    "# Start a new wandb run to track this script\n",
    "run = wandb.init(\n",
    "    # set the wandb project where this run will be logged\n",
    "    project=\"my-awesome-project\",\n",
    "    name=\"test_on_mini_from_local\",\n",
    ")\n",
    "\n",
    "log = []\n",
    "modelname = \"baseline\"\n",
    "data_path = \"../data/dataset_mini/\"\n",
    "result_model_file = \"results/dummy/dummy.pth\"\n",
    "result_logs_file = \"results/dummy/dummy_results.json\"\n",
    "res = tb.train_eval_model(model_name=modelname,\n",
    "                          data_dir=data_path,\n",
    "                          batch_size=2,\n",
    "                          epochs=4,\n",
    "                          momentum=0.9,\n",
    "                          lr=0.01,\n",
    "                          weight_decay=2e-05,\n",
    "                          useCosineAnnealingLR=True,\n",
    "                          warmup_epochs=2,\n",
    "                          warmup_lr_decay=0.01,\n",
    "                          label_smoothing=0.1,\n",
    "                          n_data_workers=4,\n",
    "                          pin_memory=True,\n",
    "                          cuda_force=False,\n",
    "                          log=log,\n",
    "                          wandb_id=run.id,\n",
    "                          wandb_project=\"my-awesome-project\",\n",
    "                          safe_model=True,\n",
    "                          safe_model_file=result_model_file)\n",
    "misc.save_to_json_robust(res, result_logs_file)"
   ]
  },
  {
   "cell_type": "code",
   "execution_count": 1,
   "metadata": {},
   "outputs": [
    {
     "name": "stdout",
     "output_type": "stream",
     "text": [
      "CUDA is not available.\n"
     ]
    },
    {
     "data": {
      "application/vnd.jupyter.widget-view+json": {
       "model_id": "aa255a77669447919cf3a7e4970d9e5c",
       "version_major": 2,
       "version_minor": 0
      },
      "text/plain": [
       "Evaluation:   0%|          | 0/2 [00:00<?, ?it/s]"
      ]
     },
     "metadata": {},
     "output_type": "display_data"
    },
    {
     "data": {
      "text/plain": [
       "{'labels': [0, 0, 0, 0, 0, 0, 0, 0, 1, 1, 1, 1, 1, 1, 1, 1],\n",
       " 'predictions': [0, 0, 1, 1, 0, 1, 0, 0, 1, 1, 0, 1, 1, 1, 0, 0],\n",
       " 'classes': ['non_smile', 'smile'],\n",
       " 'detailed_predictions': [{'file': '00a454da495e11e28a7322000a1fa414_6.jpg',\n",
       "   'true_label': 'non_smile',\n",
       "   'predicted_label': 'non_smile',\n",
       "   'probabilities': [0.6267724, 0.37322757]},\n",
       "  {'file': '02ee8060b02f11e38fe012b1c8928cc9_6.jpg',\n",
       "   'true_label': 'non_smile',\n",
       "   'predicted_label': 'non_smile',\n",
       "   'probabilities': [0.5560851, 0.44391486]},\n",
       "  {'file': '044c14a2bff911e396ce0002c9de8044_6.jpg',\n",
       "   'true_label': 'non_smile',\n",
       "   'predicted_label': 'smile',\n",
       "   'probabilities': [0.38814086, 0.6118591]},\n",
       "  {'file': '0598ce50b1f711e3bd391271df4caaa4_6.jpg',\n",
       "   'true_label': 'non_smile',\n",
       "   'predicted_label': 'smile',\n",
       "   'probabilities': [0.38239607, 0.61760396]},\n",
       "  {'file': '061897ee69b811e2896422000a1fb003_6.jpg',\n",
       "   'true_label': 'non_smile',\n",
       "   'predicted_label': 'non_smile',\n",
       "   'probabilities': [0.6611462, 0.33885378]},\n",
       "  {'file': '06c71a9ead0011e3879b129cfeadffe8_6.jpg',\n",
       "   'true_label': 'non_smile',\n",
       "   'predicted_label': 'smile',\n",
       "   'probabilities': [0.4895359, 0.51046413]},\n",
       "  {'file': '09c515c4ad0611e3ae221212d5b5af4c_6.jpg',\n",
       "   'true_label': 'non_smile',\n",
       "   'predicted_label': 'non_smile',\n",
       "   'probabilities': [0.82597136, 0.17402862]},\n",
       "  {'file': '0c5abda8a6f711e3aedb125d9a40ea40_6.jpg',\n",
       "   'true_label': 'non_smile',\n",
       "   'predicted_label': 'non_smile',\n",
       "   'probabilities': [0.58113265, 0.41886732]},\n",
       "  {'file': '00a454da495e11e28a7322000a1fa414_6.jpg',\n",
       "   'true_label': 'smile',\n",
       "   'predicted_label': 'smile',\n",
       "   'probabilities': [0.48463112, 0.5153689]},\n",
       "  {'file': '02ee8060b02f11e38fe012b1c8928cc9_6.jpg',\n",
       "   'true_label': 'smile',\n",
       "   'predicted_label': 'smile',\n",
       "   'probabilities': [0.26048404, 0.739516]},\n",
       "  {'file': '044c14a2bff911e396ce0002c9de8044_6.jpg',\n",
       "   'true_label': 'smile',\n",
       "   'predicted_label': 'non_smile',\n",
       "   'probabilities': [0.5210315, 0.4789685]},\n",
       "  {'file': '0598ce50b1f711e3bd391271df4caaa4_6.jpg',\n",
       "   'true_label': 'smile',\n",
       "   'predicted_label': 'smile',\n",
       "   'probabilities': [0.4516282, 0.5483718]},\n",
       "  {'file': '061897ee69b811e2896422000a1fb003_6.jpg',\n",
       "   'true_label': 'smile',\n",
       "   'predicted_label': 'smile',\n",
       "   'probabilities': [0.30319336, 0.69680667]},\n",
       "  {'file': '06c71a9ead0011e3879b129cfeadffe8_6.jpg',\n",
       "   'true_label': 'smile',\n",
       "   'predicted_label': 'smile',\n",
       "   'probabilities': [0.29371113, 0.7062888]},\n",
       "  {'file': '09c515c4ad0611e3ae221212d5b5af4c_6.jpg',\n",
       "   'true_label': 'smile',\n",
       "   'predicted_label': 'non_smile',\n",
       "   'probabilities': [0.62117785, 0.3788222]},\n",
       "  {'file': '0c5abda8a6f711e3aedb125d9a40ea40_6.jpg',\n",
       "   'true_label': 'smile',\n",
       "   'predicted_label': 'non_smile',\n",
       "   'probabilities': [0.51515424, 0.48484573]}]}"
      ]
     },
     "execution_count": 1,
     "metadata": {},
     "output_type": "execute_result"
    }
   ],
   "source": [
    "# Testing the evaluate model function\n",
    "import trainer\n",
    "\n",
    "model_file_path = \"results/colab/bl_enhanced_4_us_final.pth\"\n",
    "test_set_path = \"../data/dataset_mini/test\"\n",
    "\n",
    "r = trainer.evaluate_model(model_file_path=model_file_path,\n",
    "                           test_set_path=test_set_path,\n",
    "                           batch_size=8,\n",
    "                           num_workers=4,\n",
    "                           make_detailed_predictions=True)\n",
    "r\n"
   ]
  },
  {
   "cell_type": "code",
   "execution_count": 9,
   "metadata": {},
   "outputs": [
    {
     "name": "stdout",
     "output_type": "stream",
     "text": [
      "Accuracy: 0.6250\n",
      "Precision: 0.6250\n",
      "Recall: 0.6250\n",
      "F1 Score: 0.6250\n"
     ]
    },
    {
     "data": {
      "image/png": "[encoded data removed]",
      "text/plain": [
       "<Figure size 400x300 with 2 Axes>"
      ]
     },
     "metadata": {},
     "output_type": "display_data"
    }
   ],
   "source": [
    "from sklearn.metrics import (accuracy_score, precision_recall_fscore_support,\n",
    "                             confusion_matrix)\n",
    "import matplotlib.pyplot as plt\n",
    "import seaborn as sns\n",
    "\n",
    "all_labels = r['labels']\n",
    "all_preds = r['predictions']\n",
    "classes = r['classes']\n",
    "\n",
    "# Calculate overall metrics\n",
    "accuracy = accuracy_score(all_labels, all_preds)\n",
    "precision, recall, f1, _ = precision_recall_fscore_support(all_labels, all_preds, average='binary')\n",
    "conf_matrix = confusion_matrix(all_labels, all_preds)\n",
    "\n",
    "# Print overall metrics\n",
    "print(f\"Accuracy: {accuracy:.4f}\")\n",
    "print(f\"Precision: {precision:.4f}\")\n",
    "print(f\"Recall: {recall:.4f}\")\n",
    "print(f\"F1 Score: {f1:.4f}\")\n",
    "\n",
    "# Plot relative confusion matrix\n",
    "plt.figure(figsize=(4, 3))\n",
    "sns.heatmap(conf_matrix / conf_matrix.sum(axis=1)[:, None], annot=True, fmt=\".2%\",\n",
    "            cmap=\"Blues\", xticklabels=classes, yticklabels=classes)\n",
    "plt.title(\"Relative Confusion Matrix\")\n",
    "plt.ylabel(\"True\")\n",
    "plt.xlabel(\"Predicted\")\n",
    "plt.show()"
   ]
  },
  {
   "cell_type": "code",
   "execution_count": 12,
   "metadata": {},
   "outputs": [
    {
     "data": {
      "text/plain": [
       "['results/colab\\\\bl_3_us_final.pth',\n",
       " 'results/colab\\\\bl_cw_final.pth',\n",
       " 'results/colab\\\\bl_enhanced_1_us_final.pth',\n",
       " 'results/colab\\\\bl_enhanced_2_bs64_us_final.pth',\n",
       " 'results/colab\\\\bl_enhanced_2_cw2_final.pth',\n",
       " 'results/colab\\\\bl_enhanced_2_cw_final.pth',\n",
       " 'results/colab\\\\bl_enhanced_2_final.pth',\n",
       " 'results/colab\\\\bl_enhanced_2_us_final.pth',\n",
       " 'results/colab\\\\bl_enhanced_3_bs256_us_final.pth',\n",
       " 'results/colab\\\\bl_enhanced_3_us_final.pth',\n",
       " 'results/colab\\\\bl_enhanced_4_us_final.pth',\n",
       " 'results/colab\\\\bl_us_final.pth',\n",
       " 'results/colab\\\\resnet50_2fc_3_us_final.pth',\n",
       " 'results/colab\\\\rn50_uf34_1_us_final.pth',\n",
       " 'results/colab\\\\rn50_uf34_2_us_final.pth',\n",
       " 'results/colab\\\\rn50_uf34_3_us_final.pth',\n",
       " 'results/colab\\\\rn50_uf34_4_us_final.pth',\n",
       " 'results/colab\\\\rn50_uf4_1_us_final.pth',\n",
       " 'results/colab\\\\rn50_uf4_2_us_final.pth',\n",
       " 'results/colab\\\\rn50_uf4_3_us_final.pth',\n",
       " 'results/colab\\\\rn50_uf4_4_us_final.pth']"
      ]
     },
     "execution_count": 12,
     "metadata": {},
     "output_type": "execute_result"
    }
   ],
   "source": [
    "import glob\n",
    "\n",
    "models_and_log_path = \"results/colab\"\n",
    "\n",
    "final_models = glob.glob(models_and_log_path + \"/*_final.pth\")\n",
    "final_models"
   ]
  },
  {
   "cell_type": "code",
   "execution_count": 13,
   "metadata": {},
   "outputs": [
    {
     "data": {
      "text/plain": [
       "'bl_3_us'"
      ]
     },
     "execution_count": 13,
     "metadata": {},
     "output_type": "execute_result"
    }
   ],
   "source": [
    "import os\n",
    "one_model = final_models[0]\n",
    "\n",
    "# extract name\n",
    "run_name = os.path.basename(one_model).split(\"_final.pth\")[0]\n",
    "log_name = run_name + \"_log.json\"\n"
   ]
  },
  {
   "cell_type": "code",
   "execution_count": null,
   "metadata": {},
   "outputs": [],
   "source": [
    "# Display 8 pictures from the detailed predictions, the first 4 and the last 4 in a 2x4 grid\n",
    "import matplotlib.pyplot as plt\n",
    "import numpy as np\n",
    "\n",
    "fig, axs = plt.subplots(2, 4, figsize=(16, 8))\n"
   ]
  },
  {
   "cell_type": "code",
   "execution_count": 22,
   "metadata": {},
   "outputs": [
    {
     "data": {
      "text/plain": [
       "[{'file': '00a454da495e11e28a7322000a1fa414_6.jpg',\n",
       "  'true_label': 'non_smile',\n",
       "  'predicted_label': 'non_smile',\n",
       "  'probabilities': [0.6267724, 0.37322757]},\n",
       " {'file': '02ee8060b02f11e38fe012b1c8928cc9_6.jpg',\n",
       "  'true_label': 'non_smile',\n",
       "  'predicted_label': 'non_smile',\n",
       "  'probabilities': [0.5560851, 0.44391486]},\n",
       " {'file': '044c14a2bff911e396ce0002c9de8044_6.jpg',\n",
       "  'true_label': 'non_smile',\n",
       "  'predicted_label': 'smile',\n",
       "  'probabilities': [0.38814086, 0.6118591]},\n",
       " {'file': '0598ce50b1f711e3bd391271df4caaa4_6.jpg',\n",
       "  'true_label': 'non_smile',\n",
       "  'predicted_label': 'smile',\n",
       "  'probabilities': [0.38239607, 0.61760396]},\n",
       " {'file': '061897ee69b811e2896422000a1fb003_6.jpg',\n",
       "  'true_label': 'smile',\n",
       "  'predicted_label': 'smile',\n",
       "  'probabilities': [0.30319336, 0.69680667]},\n",
       " {'file': '06c71a9ead0011e3879b129cfeadffe8_6.jpg',\n",
       "  'true_label': 'smile',\n",
       "  'predicted_label': 'smile',\n",
       "  'probabilities': [0.29371113, 0.7062888]},\n",
       " {'file': '09c515c4ad0611e3ae221212d5b5af4c_6.jpg',\n",
       "  'true_label': 'smile',\n",
       "  'predicted_label': 'non_smile',\n",
       "  'probabilities': [0.62117785, 0.3788222]},\n",
       " {'file': '0c5abda8a6f711e3aedb125d9a40ea40_6.jpg',\n",
       "  'true_label': 'smile',\n",
       "  'predicted_label': 'non_smile',\n",
       "  'probabilities': [0.51515424, 0.48484573]}]"
      ]
     },
     "execution_count": 22,
     "metadata": {},
     "output_type": "execute_result"
    }
   ],
   "source": [
    "# details = r[\"detailed_predictions\"]\n",
    "\n",
    "image_directory = test_set_path\n",
    "details_list = r[\"detailed_predictions\"][:4] + r[\"detailed_predictions\"][-4:]\n",
    "\n",
    "fig, axs = plt.subplots(2, 4, figsize=(15, 8))\n",
    "axs = axs.ravel()\n",
    "\n",
    "for detail in details_list:\n",
    "\n",
    "    if detail[\"true_label\"] == \"non_smile\":\n",
    "        image_path = os.path.join(image_directory, \"non_smile\", detail[\"file\"])\n",
    "    else:\n",
    "        image_path = os.path.join(image_directory, \"smile\", detail[\"file\"])\n",
    "    \n",
    "    print(image_path)\n",
    "\n",
    "    # img_path = os.path.join(image_directory, prediction['file'])\n",
    "    # img = Image.open(img_path)\n",
    "    # axs[i].imshow(img)\n",
    "    # axs[i].set_title(f\"True: {prediction['true_label']}\\nPred: {prediction['predicted_label']}\\nProb: {prediction['probabilities']}\")\n",
    "    # axs[i].axis('off')\n",
    "\n",
    "\n",
    "\n",
    "# plt.tight_layout()\n",
    "# plt.show()"
   ]
  }
 ],
 "metadata": {
  "kernelspec": {
   "display_name": "Python 3",
   "language": "python",
   "name": "python3"
  },
  "language_info": {
   "codemirror_mode": {
    "name": "ipython",
    "version": 3
   },
   "file_extension": ".py",
   "mimetype": "text/x-python",
   "name": "python",
   "nbconvert_exporter": "python",
   "pygments_lexer": "ipython3",
   "version": "3.11.3"
  }
 },
 "nbformat": 4,
 "nbformat_minor": 2
}
