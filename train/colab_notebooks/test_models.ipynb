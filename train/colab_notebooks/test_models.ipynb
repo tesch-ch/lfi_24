{
 "cells": [
  {
   "cell_type": "code",
   "execution_count": null,
   "metadata": {},
   "outputs": [],
   "source": [
    "import glob\n",
    "import os\n",
    "from sklearn.metrics import (accuracy_score, precision_recall_fscore_support,\n",
    "                             confusion_matrix)\n",
    "import matplotlib.pyplot as plt\n",
    "import seaborn as sns\n",
    "# add to path\n",
    "import trainer\n",
    "import misc"
   ]
  },
  {
   "cell_type": "code",
   "execution_count": null,
   "metadata": {},
   "outputs": [],
   "source": [
    "# Testset path\n",
    "testset_path = \"data/dataset_us/test\""
   ]
  },
  {
   "cell_type": "code",
   "execution_count": null,
   "metadata": {},
   "outputs": [],
   "source": [
    "# Get final models\n",
    "models_and_log_path = \"results/colab\"\n",
    "final_models_paths = glob.glob(models_and_log_path + \"/*_final.pth\")\n",
    "final_models_paths"
   ]
  },
  {
   "cell_type": "code",
   "execution_count": null,
   "metadata": {},
   "outputs": [],
   "source": [
    "models_results = []\n",
    "for model_path in sorted(final_models_paths):\n",
    "    run_name = os.path.basename(model_path).replace(\"_final.pth\", \"\")\n",
    "    log_name = run_name + \"_log.json\"\n",
    "    log = misc.load_from_json(os.path.join(models_and_log_path, log_name))\n",
    "    training_params = log[\"params\"]\n",
    "    \n",
    "\n"
   ]
  }
 ],
 "metadata": {
  "kernelspec": {
   "display_name": "Python 3",
   "language": "python",
   "name": "python3"
  },
  "language_info": {
   "name": "python",
   "version": "3.11.3"
  }
 },
 "nbformat": 4,
 "nbformat_minor": 2
}
